{
  "nbformat": 4,
  "nbformat_minor": 0,
  "metadata": {
    "colab": {
      "provenance": [],
      "authorship_tag": "ABX9TyN5ALoZ74C2ZjFB8eIsFcAL",
      "include_colab_link": true
    },
    "kernelspec": {
      "name": "python3",
      "display_name": "Python 3"
    },
    "language_info": {
      "name": "python"
    }
  },
  "cells": [
    {
      "cell_type": "markdown",
      "metadata": {
        "id": "view-in-github",
        "colab_type": "text"
      },
      "source": [
        "<a href=\"https://colab.research.google.com/github/sidde95/Python-Data-Structure/blob/main/Python_Data_Structure.ipynb\" target=\"_parent\"><img src=\"https://colab.research.google.com/assets/colab-badge.svg\" alt=\"Open In Colab\"/></a>"
      ]
    },
    {
      "cell_type": "markdown",
      "source": [
        "##1. Discuss string slicing and provider examples\n"
      ],
      "metadata": {
        "id": "L6Qa0hEHGvzw"
      }
    },
    {
      "cell_type": "markdown",
      "source": [
        "String slicing is a technique used in Python to extract a part of a string using specific syntyax. The basic syntax for slicing is:\n",
        "\n",
        "`string[start:stop:step]`\n",
        "\n",
        "- start: The index where the slice starts(inclusive)\n",
        "- stop: The index where the slice ends (exclusive)\n",
        "- step: The interval between the characters in the slice\n",
        "\n",
        "**Basic Slicing**"
      ],
      "metadata": {
        "id": "6KTufGmTHrxm"
      }
    },
    {
      "cell_type": "code",
      "source": [
        "a = \"Hello, World!\"\n",
        "print(a[0:5])"
      ],
      "metadata": {
        "colab": {
          "base_uri": "https://localhost:8080/"
        },
        "id": "LQr9mw9OU3Xq",
        "outputId": "e7b03911-5d36-4e7c-cf98-65e0dd758217"
      },
      "execution_count": null,
      "outputs": [
        {
          "output_type": "stream",
          "name": "stdout",
          "text": [
            "Hello\n"
          ]
        }
      ]
    },
    {
      "cell_type": "markdown",
      "source": [
        "**Omitting Start and Stop**"
      ],
      "metadata": {
        "id": "3FuCBq3JU6_N"
      }
    },
    {
      "cell_type": "code",
      "source": [
        "a = \"Hello, World!\"\n",
        "print(a[:5])\n",
        "print(a[7:])"
      ],
      "metadata": {
        "colab": {
          "base_uri": "https://localhost:8080/"
        },
        "id": "X0JBat0EVG-b",
        "outputId": "59c329dd-8fe5-4819-8de0-24fd38139ffe"
      },
      "execution_count": null,
      "outputs": [
        {
          "output_type": "stream",
          "name": "stdout",
          "text": [
            "Hello\n",
            "World!\n"
          ]
        }
      ]
    },
    {
      "cell_type": "markdown",
      "source": [
        "**Negetive Index**"
      ],
      "metadata": {
        "id": "MeC-Za9xVVrc"
      }
    },
    {
      "cell_type": "code",
      "source": [
        "a = \"Hello, World!\"\n",
        "print(a[-6:-2])\n",
        "print(a[-6:])"
      ],
      "metadata": {
        "colab": {
          "base_uri": "https://localhost:8080/"
        },
        "id": "crMmUMP2VdY0",
        "outputId": "05494a08-59be-4a71-ec23-947345ef8a6d"
      },
      "execution_count": null,
      "outputs": [
        {
          "output_type": "stream",
          "name": "stdout",
          "text": [
            "Worl\n",
            "World!\n"
          ]
        }
      ]
    },
    {
      "cell_type": "markdown",
      "source": [
        "**Using Step**"
      ],
      "metadata": {
        "id": "buxcw90yVmbE"
      }
    },
    {
      "cell_type": "code",
      "source": [
        "a = \"Hello, World!\"\n",
        "print(a[::2])"
      ],
      "metadata": {
        "colab": {
          "base_uri": "https://localhost:8080/"
        },
        "id": "pSPeMMY8V9Bk",
        "outputId": "e9f7d6d8-2bdd-4dbb-dfd8-ea910ad76d73"
      },
      "execution_count": null,
      "outputs": [
        {
          "output_type": "stream",
          "name": "stdout",
          "text": [
            "Hlo ol!\n"
          ]
        }
      ]
    },
    {
      "cell_type": "markdown",
      "source": [
        "**Reversing a string**"
      ],
      "metadata": {
        "id": "lp8nNy8TV-zU"
      }
    },
    {
      "cell_type": "code",
      "source": [
        "a = \"Hello, World!\"\n",
        "print(a[::-1])"
      ],
      "metadata": {
        "colab": {
          "base_uri": "https://localhost:8080/"
        },
        "id": "OOG4zOf5WR17",
        "outputId": "070e0bf5-44c2-4d9d-f763-0ab343e7f744"
      },
      "execution_count": null,
      "outputs": [
        {
          "output_type": "stream",
          "name": "stdout",
          "text": [
            "!dlroW ,olleH\n"
          ]
        }
      ]
    },
    {
      "cell_type": "markdown",
      "source": [
        "**Slicing with step**"
      ],
      "metadata": {
        "id": "nbTHdZ27WT32"
      }
    },
    {
      "cell_type": "code",
      "source": [
        "a = \"Hello, World!\"\n",
        "print(a[:5:2])"
      ],
      "metadata": {
        "colab": {
          "base_uri": "https://localhost:8080/"
        },
        "id": "kDZsqfh_WYul",
        "outputId": "7e7172bf-9d73-4bc0-e9f2-bdfa35e3f0dc"
      },
      "execution_count": null,
      "outputs": [
        {
          "output_type": "stream",
          "name": "stdout",
          "text": [
            "Hlo\n"
          ]
        }
      ]
    },
    {
      "cell_type": "markdown",
      "source": [
        "##2. Explain the key features of lists in Pyhton."
      ],
      "metadata": {
        "id": "3ZF0bAxhWbxd"
      }
    },
    {
      "cell_type": "markdown",
      "source": [
        "1. **Ordered**: Lists mainatain the order of elements. The order in which you add elements to a list is the order in which they are stored or accessed.\n",
        "\n",
        "2. **Mutable**: Lists are mutable meaning you can change their identity. You can modify elements, append new elements or remove elements.\n",
        "\n",
        "3. **Heterogenous Elements**: Lists can contain elements of different types including numbers, strings and other lists.\n",
        "\n",
        "4. **Dynamic Size**: Lists can grow or shrink in size as needed. We can add or remove elements as needed\n",
        "\n",
        "5. **Indexed Access**: We can access elements by their index starting from 0 for the first element.\n",
        "\n",
        "6. **Slicing**: Lists support slicing, allowing you to create a new list from a subset of elements.\n",
        "\n",
        "7. **Built - In Methods**: Lists come with a variety of builtin methods for common operations such as adding, removing, and searhcing for elements.\n",
        "\n",
        "8. **Iterations**: We can iterate over the elements of a list using a loop.\n",
        "\n",
        "9. **Comprehensions**: List comprehensions provide a concise war to create lists\n",
        "\n",
        "10. **Support nested lists**: Lists can contain other lists, allowing for the creation for a multi-dimensional data structure like matrices."
      ],
      "metadata": {
        "id": "oaKkvqsUWpZd"
      }
    },
    {
      "cell_type": "markdown",
      "source": [
        "##3. Describe how to access, modify and delete elements in a list with examples."
      ],
      "metadata": {
        "id": "wQt3UXApdbGT"
      }
    },
    {
      "cell_type": "markdown",
      "source": [
        "Accessing, modifying and deleting elements in a list are fundamental operations in Python.\n",
        "\n",
        "**1. Accessing Elements**\n",
        "\n",
        "Accessing elements in a list is done using the index of the elements within square brackets `[]`\n",
        "\n",
        "Example:"
      ],
      "metadata": {
        "id": "lB5TDUETdlCk"
      }
    },
    {
      "cell_type": "code",
      "source": [
        "my_list = [10, 20, 30, 40, 50]\n",
        "\n",
        "print(my_list[0])\n",
        "print(my_list[2])"
      ],
      "metadata": {
        "colab": {
          "base_uri": "https://localhost:8080/"
        },
        "id": "Yi3Awy1_1Nqj",
        "outputId": "7f0faf36-455c-45e2-cdb6-ff12c88d54df"
      },
      "execution_count": null,
      "outputs": [
        {
          "output_type": "stream",
          "name": "stdout",
          "text": [
            "10\n",
            "30\n"
          ]
        }
      ]
    },
    {
      "cell_type": "markdown",
      "source": [
        "**2. Modifying Elements**: To modify Elements in a list, assign a new value to the desired index\n",
        "\n",
        "Example:"
      ],
      "metadata": {
        "id": "KB9YhZt21bYF"
      }
    },
    {
      "cell_type": "code",
      "source": [
        "my_list = [10, 20, 30, 40, 50]\n",
        "\n",
        "my_list[1] = 200\n",
        "print(my_list)\n",
        "\n",
        "my_list[-1] = 500\n",
        "print(my_list)"
      ],
      "metadata": {
        "colab": {
          "base_uri": "https://localhost:8080/"
        },
        "id": "bA8V63RI12YP",
        "outputId": "aeb5cdab-85ce-4ab4-e8c4-e456ddd6a4d6"
      },
      "execution_count": null,
      "outputs": [
        {
          "output_type": "stream",
          "name": "stdout",
          "text": [
            "[10, 200, 30, 40, 50]\n",
            "[10, 200, 30, 40, 500]\n"
          ]
        }
      ]
    },
    {
      "cell_type": "markdown",
      "source": [
        "**3. Deleting elements**\n",
        "\n",
        "There are a few ways to delete elements from a list:\n",
        "\n",
        "- Using `del` keyword: Deletes an element or slice from a list.\n",
        "- Using `pop` method: Removes and returns the elements at a specified index(default is the last element)\n",
        "- Using `remove()` method: Removes the first occurance of a value from the list."
      ],
      "metadata": {
        "id": "GIPS4IQp2EKs"
      }
    },
    {
      "cell_type": "code",
      "source": [
        "# Using del keyword\n",
        "\n",
        "my_list = [10, 20, 30, 40, 50]\n",
        "\n",
        "del my_list[2]\n",
        "print(my_list)\n",
        "\n",
        "del my_list[1:3]\n",
        "print(my_list)"
      ],
      "metadata": {
        "colab": {
          "base_uri": "https://localhost:8080/"
        },
        "id": "wWAY8JTb4RdX",
        "outputId": "47b81baf-1720-4e40-d1e9-5af6730ca17b"
      },
      "execution_count": null,
      "outputs": [
        {
          "output_type": "stream",
          "name": "stdout",
          "text": [
            "[10, 20, 40, 50]\n",
            "[10, 50]\n"
          ]
        }
      ]
    },
    {
      "cell_type": "code",
      "source": [
        "# Using pop method\n",
        "\n",
        "my_list = [10, 20, 30, 40, 50]\n",
        "removed_element = my_list.pop()\n",
        "print(my_list)\n",
        "print(removed_element)\n",
        "\n",
        "removed_element = my_list.pop(2)\n",
        "print(my_list)\n",
        "print(removed_element)"
      ],
      "metadata": {
        "colab": {
          "base_uri": "https://localhost:8080/"
        },
        "id": "1Zdt1sSF4eun",
        "outputId": "7b4dea00-3f02-4e5b-aae8-0cdc10cd72a6"
      },
      "execution_count": null,
      "outputs": [
        {
          "output_type": "stream",
          "name": "stdout",
          "text": [
            "[10, 20, 30, 40]\n",
            "50\n",
            "[10, 20, 40]\n",
            "30\n"
          ]
        }
      ]
    },
    {
      "cell_type": "code",
      "source": [
        "# Using remove keyword\n",
        "\n",
        "my_list = [10, 20, 30, 40, 50]\n",
        "my_list.remove(30)\n",
        "print(my_list)"
      ],
      "metadata": {
        "colab": {
          "base_uri": "https://localhost:8080/"
        },
        "id": "fTJTzAs_42xH",
        "outputId": "49cb6de0-99ba-41a8-8ab0-6debfa6d955d"
      },
      "execution_count": null,
      "outputs": [
        {
          "output_type": "stream",
          "name": "stdout",
          "text": [
            "[10, 20, 40, 50]\n"
          ]
        }
      ]
    },
    {
      "cell_type": "markdown",
      "source": [
        "##4. Compare and contrast tuples and lists with examples"
      ],
      "metadata": {
        "id": "sWuvzLQm4_cR"
      }
    },
    {
      "cell_type": "markdown",
      "source": [
        "Tuples and lists are both fundamental data structures in Python, but they have some key differences in terms of mutability, usage and syntax.\n",
        "\n",
        "**Tuples**\n",
        "1. Once a tuple is created its elements cannot be changed, added or removed.\n",
        "2. Tuples are represented using syntax `()` or without any brackets.\n",
        "3. Tuples are generally faster than lists because of their immutability.\n",
        "4. Tuples are used for fixed collections of items, such as coordinates or other data that shouldn't change.\n",
        "\n",
        "**Lists**\n",
        "1. Lists can be modified after creation. We can add, remove or change elements.\n",
        "2. Lists are defined used `[]`.\n",
        "3. Lists are slightly slower than tuples due to their mutability.\n",
        "4. Lists are used for collections of items that may need to change, such as a collection of user inputs or a dynamic lists of elements.\n",
        "\n",
        "\n",
        "\n"
      ],
      "metadata": {
        "id": "nYPE_6wK5VrB"
      }
    },
    {
      "cell_type": "code",
      "source": [
        "# tuples examples\n",
        "\n",
        "tuple = 21, 32, 12, 43, 32\n",
        "type(tuple)"
      ],
      "metadata": {
        "colab": {
          "base_uri": "https://localhost:8080/"
        },
        "id": "XYqSbw0Cb70L",
        "outputId": "112bd883-7dd8-4ca2-aa78-55d1b476fd7d"
      },
      "execution_count": 2,
      "outputs": [
        {
          "output_type": "execute_result",
          "data": {
            "text/plain": [
              "tuple"
            ]
          },
          "metadata": {},
          "execution_count": 2
        }
      ]
    },
    {
      "cell_type": "code",
      "source": [
        "tuple[3]"
      ],
      "metadata": {
        "colab": {
          "base_uri": "https://localhost:8080/"
        },
        "id": "3srR6yZgcFd3",
        "outputId": "3e2290f3-3586-4ad4-d2d5-e36cb34d46b6"
      },
      "execution_count": 3,
      "outputs": [
        {
          "output_type": "execute_result",
          "data": {
            "text/plain": [
              "43"
            ]
          },
          "metadata": {},
          "execution_count": 3
        }
      ]
    },
    {
      "cell_type": "code",
      "source": [
        "tuple[0] = 2 # tuple is immutable"
      ],
      "metadata": {
        "colab": {
          "base_uri": "https://localhost:8080/",
          "height": 141
        },
        "id": "PvU5jQnRcLnO",
        "outputId": "3d3f758e-abc1-4950-99ce-1c02af6c6cb5"
      },
      "execution_count": 4,
      "outputs": [
        {
          "output_type": "error",
          "ename": "TypeError",
          "evalue": "'tuple' object does not support item assignment",
          "traceback": [
            "\u001b[0;31m---------------------------------------------------------------------------\u001b[0m",
            "\u001b[0;31mTypeError\u001b[0m                                 Traceback (most recent call last)",
            "\u001b[0;32m<ipython-input-4-067d7edc79f6>\u001b[0m in \u001b[0;36m<cell line: 1>\u001b[0;34m()\u001b[0m\n\u001b[0;32m----> 1\u001b[0;31m \u001b[0mtuple\u001b[0m\u001b[0;34m[\u001b[0m\u001b[0;36m0\u001b[0m\u001b[0;34m]\u001b[0m \u001b[0;34m=\u001b[0m \u001b[0;36m2\u001b[0m\u001b[0;34m\u001b[0m\u001b[0;34m\u001b[0m\u001b[0m\n\u001b[0m",
            "\u001b[0;31mTypeError\u001b[0m: 'tuple' object does not support item assignment"
          ]
        }
      ]
    },
    {
      "cell_type": "code",
      "source": [
        "# list example\n",
        "\n",
        "list = [21, 32, 12, 43, 32]\n",
        "type(list)"
      ],
      "metadata": {
        "colab": {
          "base_uri": "https://localhost:8080/"
        },
        "id": "uf9LDpctcO4n",
        "outputId": "46bf9872-73a7-4472-a3df-1afd417f4af3"
      },
      "execution_count": 5,
      "outputs": [
        {
          "output_type": "execute_result",
          "data": {
            "text/plain": [
              "list"
            ]
          },
          "metadata": {},
          "execution_count": 5
        }
      ]
    },
    {
      "cell_type": "code",
      "source": [
        "list[1:3]"
      ],
      "metadata": {
        "colab": {
          "base_uri": "https://localhost:8080/"
        },
        "id": "GfJVUGkmcaZm",
        "outputId": "d4e60ab9-3b0a-415b-afd9-64ac64cce0c6"
      },
      "execution_count": 6,
      "outputs": [
        {
          "output_type": "execute_result",
          "data": {
            "text/plain": [
              "[32, 12]"
            ]
          },
          "metadata": {},
          "execution_count": 6
        }
      ]
    },
    {
      "cell_type": "code",
      "source": [
        "list[1:3] = [12, 54]\n",
        "print(list)"
      ],
      "metadata": {
        "colab": {
          "base_uri": "https://localhost:8080/"
        },
        "id": "nlL-16BmcdsO",
        "outputId": "4eb46aa2-fe3e-41b1-95f9-8c27b7b289ff"
      },
      "execution_count": 7,
      "outputs": [
        {
          "output_type": "stream",
          "name": "stdout",
          "text": [
            "[21, 12, 54, 43, 32]\n"
          ]
        }
      ]
    },
    {
      "cell_type": "code",
      "source": [
        "list.append('apple')\n",
        "list"
      ],
      "metadata": {
        "colab": {
          "base_uri": "https://localhost:8080/"
        },
        "id": "NnkmIGt5cmUv",
        "outputId": "4f7b2362-c319-4455-d94f-105cda7cda33"
      },
      "execution_count": 8,
      "outputs": [
        {
          "output_type": "execute_result",
          "data": {
            "text/plain": [
              "[21, 12, 54, 43, 32, 'apple']"
            ]
          },
          "metadata": {},
          "execution_count": 8
        }
      ]
    },
    {
      "cell_type": "code",
      "source": [
        "del list[1:4]\n",
        "print(list)"
      ],
      "metadata": {
        "colab": {
          "base_uri": "https://localhost:8080/"
        },
        "id": "dZLFXsNgcsDP",
        "outputId": "6c2a780c-526c-4978-e1e3-c986d1207391"
      },
      "execution_count": 9,
      "outputs": [
        {
          "output_type": "stream",
          "name": "stdout",
          "text": [
            "[21, 32, 'apple']\n"
          ]
        }
      ]
    },
    {
      "cell_type": "markdown",
      "source": [
        "## 5. Describe the key features of sets and provide examples of their use."
      ],
      "metadata": {
        "id": "YIQChWRucz0e"
      }
    },
    {
      "cell_type": "markdown",
      "source": [
        "Sets in Python are collection that are unorderd, unindexed and contain no duplicate elements. They are useful for operations involving membership tests, removing duplicates from a sequence and mathematical operations like unioin, intersection, difference and symmetric difference.\n",
        "\n",
        "**Key features of Sets**\n",
        "\n",
        "1. **Unordered**: Elements in a set do not have a specific order.\n",
        "2. **Unindexed**: There is no way to access elements by index since they are unordered.\n",
        "3. **No duplicates**: Set automatically remove duplicate items\n",
        "4. **Mutable**: Sets are mutable after creation. We can add or remove elements.\n",
        "5. **Set Operations**: Supports mathematiccal set operations like union, intersection, difference and symmetric difference.\n",
        "\n"
      ],
      "metadata": {
        "id": "txHboWFxdChu"
      }
    },
    {
      "cell_type": "code",
      "source": [
        "# Creating a set\n",
        "\n",
        "a = {1, 2, 3, 'banana', 'apple'}\n",
        "print(a)\n",
        "\n",
        "empty_set = set()\n",
        "print(empty_set)"
      ],
      "metadata": {
        "colab": {
          "base_uri": "https://localhost:8080/"
        },
        "id": "kEyPY0XMlKsA",
        "outputId": "d6c46dd4-6a8c-41fd-bf18-ced3d46de2a6"
      },
      "execution_count": 10,
      "outputs": [
        {
          "output_type": "stream",
          "name": "stdout",
          "text": [
            "{1, 2, 3, 'banana', 'apple'}\n",
            "set()\n"
          ]
        }
      ]
    },
    {
      "cell_type": "code",
      "source": [
        "# Removing and Adding elements in a set\n",
        "\n",
        "a = {1, 2, 3, 'banana', 'apple'}\n",
        "a.add('orange')\n",
        "print(a)\n",
        "\n",
        "a.remove('apple')\n",
        "print(a)"
      ],
      "metadata": {
        "colab": {
          "base_uri": "https://localhost:8080/"
        },
        "id": "5c61sodBlg84",
        "outputId": "07d8bd18-9290-47ef-d11e-d8e63af301d0"
      },
      "execution_count": 14,
      "outputs": [
        {
          "output_type": "stream",
          "name": "stdout",
          "text": [
            "{1, 2, 3, 'banana', 'orange', 'apple'}\n",
            "{1, 2, 3, 'banana', 'orange'}\n"
          ]
        }
      ]
    },
    {
      "cell_type": "code",
      "source": [
        "# Set Operations\n",
        "\n",
        "a = {1, 2, 3, 4, 5}\n",
        "b = {4, 5, 6, 7, 8}\n",
        "\n",
        "# Union\n",
        "print(a.union(b))\n",
        "\n",
        "# Intersection\n",
        "print(a.intersection(b))\n",
        "\n",
        "# Difference\n",
        "\n",
        "print(a.difference(b))\n",
        "\n",
        "# Symmetric Difference\n",
        "print(a.symmetric_difference(b))"
      ],
      "metadata": {
        "colab": {
          "base_uri": "https://localhost:8080/"
        },
        "id": "srtq9aTPlpnI",
        "outputId": "ae92b544-1865-4be0-b7bd-f2aa228e67e9"
      },
      "execution_count": 15,
      "outputs": [
        {
          "output_type": "stream",
          "name": "stdout",
          "text": [
            "{1, 2, 3, 4, 5, 6, 7, 8}\n",
            "{4, 5}\n",
            "{1, 2, 3}\n",
            "{1, 2, 3, 6, 7, 8}\n"
          ]
        }
      ]
    },
    {
      "cell_type": "code",
      "source": [
        "# Membership Test\n",
        "\n",
        "print(1 in a)\n",
        "print(6 in a)"
      ],
      "metadata": {
        "colab": {
          "base_uri": "https://localhost:8080/"
        },
        "id": "PEMJm-vrmWah",
        "outputId": "21f6dce5-051d-45ef-dc8c-842df058fcf2"
      },
      "execution_count": 17,
      "outputs": [
        {
          "output_type": "stream",
          "name": "stdout",
          "text": [
            "True\n",
            "False\n"
          ]
        }
      ]
    },
    {
      "cell_type": "markdown",
      "source": [
        "##6. Discuss the use case of tuples and sets in Python programming."
      ],
      "metadata": {
        "id": "cA-WeOHgmkB5"
      }
    },
    {
      "cell_type": "markdown",
      "source": [
        "Tuple and sets are both built in data structures in Python that serve different purposes and have unique characteristics.\n",
        "\n",
        "**Tuples**: A tuple is an ordered, immutable collection of elements. Tuples are defined by enclosing the elements in parenthesis `()`.\n",
        "\n",
        "**Characteristics**:\n",
        "  1. **Ordered**: The elements have a defined order, adn that order will not change.\n",
        "  2. **Immutable**: Once a tuple is created, its element cannot be modified.\n",
        "  3. **Heterogeneous**: Tuples can contain elements of different data types.\n",
        "\n",
        "**Common Use Cases**:\n",
        "  1. **Fixed Collections**: When we need to group a fixed number of items. For example, representing a coordinate `(x, y)`, RGB color `(r, g, b)` or personal infomration `(name, age, gender)`.\n",
        "  2. **Return Multiple Values from Functions**: Functions in Python can return multiple values using tuples.\n",
        "  3. **Dictionary keys**: Since tuples are immutasble, they can be used as keys in dictionaries.\n",
        "  4. **Data Integrity**: When we want to ensure the data remains constant throughtout the program.\n",
        "\n",
        "\n",
        "**Sets**: A set in an unorderd collection of unique elements. Sets are defined by enclosing the elements in curly braces `{}` or using the `set()` function\n",
        "\n",
        "**Characteristics**:\n",
        "  1. **Unordered**: The elements do not have a defined order.\n",
        "  2. **Mutable**: Elements can be added or removed.\n",
        "  3. **Unique Elements**: Duplicate elements are not allowed.\n",
        "\n",
        "**Common Use Cases**:\n",
        "  1. **Membership Testing**: Sets provide a highly optimized way to check for the presence of an element\n",
        "  2. **Eliminate Duplicates**: Convert a list to set to remove duplicate elements\n",
        "  3. **Set Operations**: Sets suppport mathematical operations like union, intersect, difference and symmetric difference.\n",
        "  4. **Remove Duplicates while Maintaining Order**: While sets themselves dont mainatain order combining sets with other data structures can acheive this goal.\n"
      ],
      "metadata": {
        "id": "RSBHUw1Wm7Ux"
      }
    },
    {
      "cell_type": "markdown",
      "source": [
        "##7. Describe how to add, modify adn delete items in a dictionary with examples"
      ],
      "metadata": {
        "id": "Etnon4x0qtwl"
      }
    },
    {
      "cell_type": "markdown",
      "source": [
        "Dictionaries in Python are mutable, unordered collections of key-value pairs. Each key is unique and its associated with a value.\n",
        "\n",
        "**Adding Items to a Dictionary**: To add a new key value pair to a dictionary, we can simply assign a value to a new key using the assignment operator `=`"
      ],
      "metadata": {
        "id": "O6w8yDnM3gkj"
      }
    },
    {
      "cell_type": "code",
      "source": [
        "person = {}\n",
        "\n",
        "person['name'] = 'John'\n",
        "person['age'] = 30\n",
        "person['city'] = 'New York'\n",
        "print(person)"
      ],
      "metadata": {
        "colab": {
          "base_uri": "https://localhost:8080/"
        },
        "id": "-2tqQFiS7qEv",
        "outputId": "71be86a6-a266-4695-f59b-141ef1ee4b47"
      },
      "execution_count": 18,
      "outputs": [
        {
          "output_type": "stream",
          "name": "stdout",
          "text": [
            "{'name': 'John', 'age': 30, 'city': 'New York'}\n"
          ]
        }
      ]
    },
    {
      "cell_type": "markdown",
      "source": [
        "**Modifying Items in a Dictionary**: To modify the value associated with an existing key in the dictionary, we assign a new value to that key"
      ],
      "metadata": {
        "id": "NFVNIFlx77bI"
      }
    },
    {
      "cell_type": "code",
      "source": [
        "person['age'] = 25\n",
        "person['city'] = 'Bengalore'\n",
        "print(person)"
      ],
      "metadata": {
        "colab": {
          "base_uri": "https://localhost:8080/"
        },
        "id": "HxcxKycY8NZo",
        "outputId": "d99c508e-611c-42d2-afb9-4440c9209ea6"
      },
      "execution_count": 20,
      "outputs": [
        {
          "output_type": "stream",
          "name": "stdout",
          "text": [
            "{'name': 'John', 'age': 25, 'city': 'Bengalore'}\n"
          ]
        }
      ]
    },
    {
      "cell_type": "markdown",
      "source": [
        "**Using the `pop` method**: This method removes and returns the last inserted key value pair as a tuple."
      ],
      "metadata": {
        "id": "t06IkQ0j8Va4"
      }
    },
    {
      "cell_type": "code",
      "source": [
        "person = {'name': 'John', 'age': 25, 'city': 'Bengalore'}\n",
        "\n",
        "age = person.pop(\"age\")\n",
        "\n",
        "print(person)\n",
        "\n",
        "print(age)"
      ],
      "metadata": {
        "colab": {
          "base_uri": "https://localhost:8080/"
        },
        "id": "uA_CQI4k84YY",
        "outputId": "6418ad98-f35b-4f0a-c783-690691aa7cf1"
      },
      "execution_count": 24,
      "outputs": [
        {
          "output_type": "stream",
          "name": "stdout",
          "text": [
            "{'name': 'John', 'city': 'Bengalore'}\n",
            "25\n"
          ]
        }
      ]
    },
    {
      "cell_type": "markdown",
      "source": [
        "**Using the `popitem` method**: This method removed and returns the last inserted key-value pair as a tuple\n"
      ],
      "metadata": {
        "id": "5fzJp5RG9EW3"
      }
    },
    {
      "cell_type": "code",
      "source": [
        "person = {'name': 'John', 'age': 25, 'city': 'Bengalore'}\n",
        "\n",
        "last_item = person.popitem()\n",
        "\n",
        "print(person)\n",
        "\n",
        "print(last_item)"
      ],
      "metadata": {
        "colab": {
          "base_uri": "https://localhost:8080/"
        },
        "id": "_lKP8KL29QzR",
        "outputId": "7eecc8b7-eeb3-40c4-fd3f-fef5abe37eba"
      },
      "execution_count": 26,
      "outputs": [
        {
          "output_type": "stream",
          "name": "stdout",
          "text": [
            "{'name': 'John', 'age': 25}\n",
            "('city', 'Bengalore')\n"
          ]
        }
      ]
    },
    {
      "cell_type": "markdown",
      "source": [
        "**Using `del` keyword**:"
      ],
      "metadata": {
        "id": "Ry90B-ia-IyX"
      }
    },
    {
      "cell_type": "code",
      "source": [
        "person = {'name': 'John', 'age': 25, 'city': 'Bengalore'}\n",
        "\n",
        "del person['age']\n",
        "\n",
        "print(person)"
      ],
      "metadata": {
        "colab": {
          "base_uri": "https://localhost:8080/"
        },
        "id": "hiPackyT-Qc6",
        "outputId": "96fc1d39-4e7c-4a83-f2cc-78d4e906781f"
      },
      "execution_count": 30,
      "outputs": [
        {
          "output_type": "stream",
          "name": "stdout",
          "text": [
            "{'name': 'John', 'city': 'Bengalore'}\n"
          ]
        }
      ]
    },
    {
      "cell_type": "markdown",
      "source": [
        "**Using the `clear` method**: This method removes all key-value pairs from the dictionary\n"
      ],
      "metadata": {
        "id": "QQx-_FA6-T2D"
      }
    },
    {
      "cell_type": "code",
      "source": [
        "person = {'name': 'John', 'age': 25, 'city': 'Bengalore'}\n",
        "\n",
        "person.clear()\n",
        "\n",
        "print(person)"
      ],
      "metadata": {
        "colab": {
          "base_uri": "https://localhost:8080/"
        },
        "id": "aq_c6IuE-yer",
        "outputId": "1787d1e1-3c69-4574-b023-71f0364d0153"
      },
      "execution_count": 32,
      "outputs": [
        {
          "output_type": "stream",
          "name": "stdout",
          "text": [
            "{}\n"
          ]
        }
      ]
    },
    {
      "cell_type": "code",
      "source": [],
      "metadata": {
        "id": "3gxiohgE_YXb"
      },
      "execution_count": null,
      "outputs": []
    }
  ]
}